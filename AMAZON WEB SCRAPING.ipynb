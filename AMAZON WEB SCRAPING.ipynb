{
 "cells": [
  {
   "cell_type": "code",
   "execution_count": 16,
   "id": "725c881b",
   "metadata": {},
   "outputs": [],
   "source": [
    "from bs4 import BeautifulSoup\n",
    "import requests\n",
    "import datetime\n",
    "\n"
   ]
  },
  {
   "cell_type": "code",
   "execution_count": 17,
   "id": "464b5bbb",
   "metadata": {},
   "outputs": [
    {
     "name": "stdout",
     "output_type": "stream",
     "text": [
      "t-shirt name-\n",
      "LEOTUDE Men's Full Sleeve Regular Fit Tshirt, Round Neck Cottonblend T-Shirt (Color Multicolor)\n",
      "price: Rs.289\n"
     ]
    }
   ],
   "source": [
    "#connecting to website and getting the data\n",
    "URL ='https://www.amazon.in/LEOTUDE-Regular-Sleeve-T-Shirt-Color/dp/B09CV399D5/ref=sr_1_5?crid=18NA5PMLU5UNG&dib=eyJ2IjoiMSJ9.8kjp9RYjMqxuSiSMj6zZpkKSJOiwzZKzDZehiG13lCXNcF1j6aoAf1GfXubORZgtApBuTQ2Tsy4azDR60FC3dst1_R5balIFdxxmJjtqtCI5D-k6EexPCfj_SGkxAO25NPvU2pI6Y6l69XGF1QltlHjdASZ2IcwR4yOjjklgc0fK-fZNehS2OOTYABtHUu8Ocrfnshvc_wr7TAZkHFGZOPrwL_GdW5XN1P6BE6Nn0_sgx6_zjthTZfO0uTfdnbskEGJfB2LkiEUIqS6Q71IndGlEIZ8WTABxUrQW_6CcCZs.U14cYYnosec2adL2p59-A3ru-C0rnVXBLuHQTH0K5x0&dib_tag=se&keywords=tshirt+for+man&qid=1732120050&sprefix=tsh%2Caps%2C344&sr=8-5'\n",
    "headers ={\"User-Agent\": \"Mozilla/5.0 (Windows NT 10.0; Win64; x64) AppleWebKit/537.36 (KHTML, like Gecko) Chrome/131.0.0.0 Safari/537.36\", \n",
    "    \"X-Amzn-Trace-Id\": \"Root=1-673e0e9d-293e616b6c48a95e17f5d091\"}\n",
    "page=requests.get(URL,headers=headers)\n",
    "soup1=BeautifulSoup(page.content,\"html.parser\")\n",
    "soup2=BeautifulSoup(soup1.prettify(),\"html.parser\")\n",
    "title=soup2.find(id='productTitle').text.strip()\n",
    "price=soup2.find('span',class_='a-price-whole').text.strip()\n",
    "print(\"t-shirt name-\")\n",
    "print(title)\n",
    "print(f'price: Rs.{price}')"
   ]
  },
  {
   "cell_type": "code",
   "execution_count": 18,
   "id": "726c4c35",
   "metadata": {},
   "outputs": [
    {
     "name": "stdout",
     "output_type": "stream",
     "text": [
      "2024-11-23\n"
     ]
    }
   ],
   "source": [
    "#create a Timestamp for your output to track when data was collected\n",
    "import datetime\n",
    "today = datetime.date.today()\n",
    "print(today)"
   ]
  },
  {
   "cell_type": "code",
   "execution_count": 19,
   "id": "a02ab920",
   "metadata": {},
   "outputs": [],
   "source": [
    "#csv creation\n",
    "import csv\n",
    "\n",
    "header =['Title','Price','Date']\n",
    "data=[title,price,today]\n",
    "\n",
    "\n",
    "with open('AmazonWebScraperDatasetk.csv', 'w',newline='',encoding='UTF8') as f:\n",
    "    writer=csv.writer(f)\n",
    "    writer.writerow(header)\n",
    "    writer.writerow(data)"
   ]
  },
  {
   "cell_type": "code",
   "execution_count": 20,
   "id": "48619aa1",
   "metadata": {},
   "outputs": [
    {
     "name": "stdout",
     "output_type": "stream",
     "text": [
      "                                               Title  Price        Date\n",
      "0  LEOTUDE Men's Full Sleeve Regular Fit Tshirt, ...    289  2024-11-23\n"
     ]
    }
   ],
   "source": [
    "import pandas as pd\n",
    "df=pd.read_csv(r'C:\\Users\\Administrator\\Downloads\\AmazonWebScraperDatasetk.csv')\n",
    "print(df)"
   ]
  },
  {
   "cell_type": "code",
   "execution_count": 21,
   "id": "b571eff7",
   "metadata": {},
   "outputs": [],
   "source": [
    "#combining all the code into the function\n",
    "\n",
    "def check_price():\n",
    "    URL ='https://www.amazon.in/LEOTUDE-Regular-Sleeve-T-Shirt-Color/dp/B09CV399D5/ref=sr_1_5?crid=18NA5PMLU5UNG&dib=eyJ2IjoiMSJ9.8kjp9RYjMqxuSiSMj6zZpkKSJOiwzZKzDZehiG13lCXNcF1j6aoAf1GfXubORZgtApBuTQ2Tsy4azDR60FC3dst1_R5balIFdxxmJjtqtCI5D-k6EexPCfj_SGkxAO25NPvU2pI6Y6l69XGF1QltlHjdASZ2IcwR4yOjjklgc0fK-fZNehS2OOTYABtHUu8Ocrfnshvc_wr7TAZkHFGZOPrwL_GdW5XN1P6BE6Nn0_sgx6_zjthTZfO0uTfdnbskEGJfB2LkiEUIqS6Q71IndGlEIZ8WTABxUrQW_6CcCZs.U14cYYnosec2adL2p59-A3ru-C0rnVXBLuHQTH0K5x0&dib_tag=se&keywords=tshirt+for+man&qid=1732120050&sprefix=tsh%2Caps%2C344&sr=8-5'\n",
    "    headers ={\"User-Agent\": \"Mozilla/5.0 (Windows NT 10.0; Win64; x64) AppleWebKit/537.36 (KHTML, like Gecko) Chrome/131.0.0.0 Safari/537.36\", \n",
    "        \"X-Amzn-Trace-Id\": \"Root=1-673e0e9d-293e616b6c48a95e17f5d091\"}\n",
    "    page=requests.get(URL,headers=headers)\n",
    "    soup1=BeautifulSoup(page.content,\"html.parser\")\n",
    "    soup2=BeautifulSoup(soup1.prettify(),\"html.parser\")\n",
    "    title=soup2.find(id='productTitle').text.strip()\n",
    "    price=soup2.find('span',class_='a-price-whole').text.strip()\n",
    "    import datetime\n",
    "    today = datetime.date.today()\n",
    "    import csv\n",
    "\n",
    "    header =['Title','Price','Date']\n",
    "    data=[title,price,today]\n",
    "\n",
    "    #appending data to the csv\n",
    "    with open('AmazonWebScraperDataset1k.csv', 'w',newline='',encoding='UTF8') as f:\n",
    "        writer=csv.writer(f)\n",
    "        writer.writerow(data)"
   ]
  },
  {
   "cell_type": "code",
   "execution_count": 22,
   "id": "298a8b4e",
   "metadata": {},
   "outputs": [
    {
     "name": "stdout",
     "output_type": "stream",
     "text": [
      "                                               Title  Price        Date\n",
      "0  LEOTUDE Men's Full Sleeve Regular Fit Tshirt, ...    289  2024-11-23\n"
     ]
    }
   ],
   "source": [
    "import pandas as pd\n",
    "df=pd.read_csv(r'C:\\Users\\Administrator\\Downloads\\AmazonWebScraperDatasetk.csv')\n",
    "print(df)"
   ]
  },
  {
   "cell_type": "code",
   "execution_count": 15,
   "id": "61be552a",
   "metadata": {},
   "outputs": [],
   "source": []
  },
  {
   "cell_type": "code",
   "execution_count": null,
   "id": "59e7eadb",
   "metadata": {},
   "outputs": [],
   "source": []
  }
 ],
 "metadata": {
  "kernelspec": {
   "display_name": "Python 3 (ipykernel)",
   "language": "python",
   "name": "python3"
  },
  "language_info": {
   "codemirror_mode": {
    "name": "ipython",
    "version": 3
   },
   "file_extension": ".py",
   "mimetype": "text/x-python",
   "name": "python",
   "nbconvert_exporter": "python",
   "pygments_lexer": "ipython3",
   "version": "3.11.5"
  }
 },
 "nbformat": 4,
 "nbformat_minor": 5
}
